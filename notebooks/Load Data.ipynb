{
 "cells": [
  {
   "cell_type": "code",
   "execution_count": 7,
   "metadata": {},
   "outputs": [],
   "source": [
    "import os\n",
    "import pandas as pd"
   ]
  },
  {
   "cell_type": "code",
   "execution_count": 4,
   "metadata": {},
   "outputs": [],
   "source": [
    "cwd = os.getcwd()\n",
    "BASE_DIR = os.path.dirname(cwd)\n",
    "DATA_DIR = os.path.join(BASE_DIR, 'data')"
   ]
  },
  {
   "cell_type": "code",
   "execution_count": 5,
   "metadata": {},
   "outputs": [
    {
     "data": {
      "text/plain": [
       "['boxofficemojo 2015 rankings.csv',\n",
       " 'boxofficemojo 2012 rankings.csv',\n",
       " 'boxofficemojo 2013 rankings.csv',\n",
       " 'boxofficemojo 2014 rankings.csv',\n",
       " 'boxofficemojo 2019 rankings.csv',\n",
       " 'boxofficemojo 2018 rankings.csv',\n",
       " 'boxofficemojo 2016 rankings.csv',\n",
       " 'boxofficemojo 2011 rankings.csv',\n",
       " 'boxofficemojo 2020 rankings.csv',\n",
       " 'boxofficemojo 2017 rankings.csv']"
      ]
     },
     "execution_count": 5,
     "metadata": {},
     "output_type": "execute_result"
    }
   ],
   "source": [
    "os.listdir(DATA_DIR)"
   ]
  },
  {
   "cell_type": "code",
   "execution_count": 14,
   "metadata": {},
   "outputs": [],
   "source": [
    "df = pd.DataFrame()"
   ]
  },
  {
   "cell_type": "code",
   "execution_count": null,
   "metadata": {},
   "outputs": [],
   "source": [
    "data = os.path.join(DATA_DIR, 'boxofficemojo 2017 rankings.csv')"
   ]
  }
 ],
 "metadata": {
  "kernelspec": {
   "display_name": "Python 3",
   "language": "python",
   "name": "python3"
  },
  "language_info": {
   "codemirror_mode": {
    "name": "ipython",
    "version": 3
   },
   "file_extension": ".py",
   "mimetype": "text/x-python",
   "name": "python",
   "nbconvert_exporter": "python",
   "pygments_lexer": "ipython3",
   "version": "3.8.5"
  }
 },
 "nbformat": 4,
 "nbformat_minor": 4
}
